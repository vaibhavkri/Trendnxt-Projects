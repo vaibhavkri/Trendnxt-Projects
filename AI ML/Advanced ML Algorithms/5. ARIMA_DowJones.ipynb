{
 "cells": [
  {
   "cell_type": "code",
   "execution_count": 130,
   "metadata": {},
   "outputs": [],
   "source": [
    "import pandas as pd\n",
    "import numpy as np\n",
    "from matplotlib import pyplot as plt\n",
    "from statsmodels.tsa.arima_model import ARIMA"
   ]
  },
  {
   "cell_type": "code",
   "execution_count": 131,
   "metadata": {},
   "outputs": [],
   "source": [
    "data_file = r'DowJones.csv'"
   ]
  },
  {
   "cell_type": "code",
   "execution_count": 132,
   "metadata": {},
   "outputs": [],
   "source": [
    "dateparse = lambda x: pd.datetime.strptime(x, '%d-%m-%Y')"
   ]
  },
  {
   "cell_type": "code",
   "execution_count": 133,
   "metadata": {},
   "outputs": [],
   "source": [
    "data = pd.read_csv(data_file, parse_dates=['Date'], date_parser=dateparse)"
   ]
  },
  {
   "cell_type": "code",
   "execution_count": 134,
   "metadata": {},
   "outputs": [
    {
     "data": {
      "text/html": [
       "<div>\n",
       "<style scoped>\n",
       "    .dataframe tbody tr th:only-of-type {\n",
       "        vertical-align: middle;\n",
       "    }\n",
       "\n",
       "    .dataframe tbody tr th {\n",
       "        vertical-align: top;\n",
       "    }\n",
       "\n",
       "    .dataframe thead th {\n",
       "        text-align: right;\n",
       "    }\n",
       "</style>\n",
       "<table border=\"1\" class=\"dataframe\">\n",
       "  <thead>\n",
       "    <tr style=\"text-align: right;\">\n",
       "      <th></th>\n",
       "      <th>Date</th>\n",
       "      <th>Open</th>\n",
       "      <th>High</th>\n",
       "      <th>Low</th>\n",
       "      <th>Close</th>\n",
       "      <th>Adj Close</th>\n",
       "      <th>Volume</th>\n",
       "    </tr>\n",
       "  </thead>\n",
       "  <tbody>\n",
       "    <tr>\n",
       "      <th>0</th>\n",
       "      <td>2003-12-01</td>\n",
       "      <td>NaN</td>\n",
       "      <td>NaN</td>\n",
       "      <td>NaN</td>\n",
       "      <td>NaN</td>\n",
       "      <td>NaN</td>\n",
       "      <td>NaN</td>\n",
       "    </tr>\n",
       "    <tr>\n",
       "      <th>1</th>\n",
       "      <td>2004-01-01</td>\n",
       "      <td>10452.74023</td>\n",
       "      <td>10705.17969</td>\n",
       "      <td>10367.41016</td>\n",
       "      <td>10488.07031</td>\n",
       "      <td>10488.07031</td>\n",
       "      <td>4.380510e+09</td>\n",
       "    </tr>\n",
       "    <tr>\n",
       "      <th>2</th>\n",
       "      <td>2004-02-01</td>\n",
       "      <td>10487.78027</td>\n",
       "      <td>10753.62988</td>\n",
       "      <td>10434.66992</td>\n",
       "      <td>10583.91992</td>\n",
       "      <td>10583.91992</td>\n",
       "      <td>3.894640e+09</td>\n",
       "    </tr>\n",
       "    <tr>\n",
       "      <th>3</th>\n",
       "      <td>2004-03-01</td>\n",
       "      <td>10582.25000</td>\n",
       "      <td>10695.54981</td>\n",
       "      <td>10007.49023</td>\n",
       "      <td>10357.70020</td>\n",
       "      <td>10357.70020</td>\n",
       "      <td>5.009640e+09</td>\n",
       "    </tr>\n",
       "    <tr>\n",
       "      <th>4</th>\n",
       "      <td>2004-04-01</td>\n",
       "      <td>10357.51953</td>\n",
       "      <td>10570.80957</td>\n",
       "      <td>10219.17969</td>\n",
       "      <td>10225.57031</td>\n",
       "      <td>10225.57031</td>\n",
       "      <td>4.530000e+09</td>\n",
       "    </tr>\n",
       "  </tbody>\n",
       "</table>\n",
       "</div>"
      ],
      "text/plain": [
       "        Date         Open         High          Low        Close    Adj Close  \\\n",
       "0 2003-12-01          NaN          NaN          NaN          NaN          NaN   \n",
       "1 2004-01-01  10452.74023  10705.17969  10367.41016  10488.07031  10488.07031   \n",
       "2 2004-02-01  10487.78027  10753.62988  10434.66992  10583.91992  10583.91992   \n",
       "3 2004-03-01  10582.25000  10695.54981  10007.49023  10357.70020  10357.70020   \n",
       "4 2004-04-01  10357.51953  10570.80957  10219.17969  10225.57031  10225.57031   \n",
       "\n",
       "         Volume  \n",
       "0           NaN  \n",
       "1  4.380510e+09  \n",
       "2  3.894640e+09  \n",
       "3  5.009640e+09  \n",
       "4  4.530000e+09  "
      ]
     },
     "execution_count": 134,
     "metadata": {},
     "output_type": "execute_result"
    }
   ],
   "source": [
    "data.head()"
   ]
  },
  {
   "cell_type": "code",
   "execution_count": 135,
   "metadata": {},
   "outputs": [],
   "source": [
    "# Collecting only reqd parameters Date and Open from data and deleting the first row containing NaN values\n",
    "df = data[['Date', 'Open']].drop(data.index[0]).set_index('Date')"
   ]
  },
  {
   "cell_type": "code",
   "execution_count": 136,
   "metadata": {},
   "outputs": [
    {
     "data": {
      "text/html": [
       "<div>\n",
       "<style scoped>\n",
       "    .dataframe tbody tr th:only-of-type {\n",
       "        vertical-align: middle;\n",
       "    }\n",
       "\n",
       "    .dataframe tbody tr th {\n",
       "        vertical-align: top;\n",
       "    }\n",
       "\n",
       "    .dataframe thead th {\n",
       "        text-align: right;\n",
       "    }\n",
       "</style>\n",
       "<table border=\"1\" class=\"dataframe\">\n",
       "  <thead>\n",
       "    <tr style=\"text-align: right;\">\n",
       "      <th></th>\n",
       "      <th>Open</th>\n",
       "    </tr>\n",
       "    <tr>\n",
       "      <th>Date</th>\n",
       "      <th></th>\n",
       "    </tr>\n",
       "  </thead>\n",
       "  <tbody>\n",
       "    <tr>\n",
       "      <th>2004-01-01</th>\n",
       "      <td>10452.74023</td>\n",
       "    </tr>\n",
       "    <tr>\n",
       "      <th>2004-02-01</th>\n",
       "      <td>10487.78027</td>\n",
       "    </tr>\n",
       "    <tr>\n",
       "      <th>2004-03-01</th>\n",
       "      <td>10582.25000</td>\n",
       "    </tr>\n",
       "    <tr>\n",
       "      <th>2004-04-01</th>\n",
       "      <td>10357.51953</td>\n",
       "    </tr>\n",
       "    <tr>\n",
       "      <th>2004-05-01</th>\n",
       "      <td>10227.26953</td>\n",
       "    </tr>\n",
       "  </tbody>\n",
       "</table>\n",
       "</div>"
      ],
      "text/plain": [
       "                   Open\n",
       "Date                   \n",
       "2004-01-01  10452.74023\n",
       "2004-02-01  10487.78027\n",
       "2004-03-01  10582.25000\n",
       "2004-04-01  10357.51953\n",
       "2004-05-01  10227.26953"
      ]
     },
     "execution_count": 136,
     "metadata": {},
     "output_type": "execute_result"
    }
   ],
   "source": [
    "df.head()"
   ]
  },
  {
   "cell_type": "code",
   "execution_count": 137,
   "metadata": {},
   "outputs": [],
   "source": [
    "# Preparing input training data for the ARIMA model\n",
    "train_data = df.values\n",
    "history = [x for x in train_data]"
   ]
  },
  {
   "cell_type": "code",
   "execution_count": 138,
   "metadata": {},
   "outputs": [],
   "source": [
    "# Generating a list of dates for which output is reqd (From 01 Sept 2019 -> 01 Sept 2021)\n",
    "dates = pd.date_range('2019-09-01', '2021-10-01', freq = '1M') - pd.offsets.MonthBegin(1)\n",
    "dates_list = [x for x in dates]"
   ]
  },
  {
   "cell_type": "code",
   "execution_count": 139,
   "metadata": {},
   "outputs": [
    {
     "data": {
      "text/plain": [
       "(188, 213)"
      ]
     },
     "execution_count": 139,
     "metadata": {},
     "output_type": "execute_result"
    }
   ],
   "source": [
    "# Create parameters to run forecasting\n",
    "start_index = len(history)\n",
    "end_index = start_index + len(dates)\n",
    "start_index, end_index"
   ]
  },
  {
   "cell_type": "code",
   "execution_count": 140,
   "metadata": {},
   "outputs": [],
   "source": [
    "# Function to invert differenced values after running the ARIMA model\n",
    "def inverse_difference(history, yhat, interval = 1):\n",
    "    return yhat + history[-interval]"
   ]
  },
  {
   "cell_type": "code",
   "execution_count": 141,
   "metadata": {},
   "outputs": [],
   "source": [
    "# Implement ARIMA with p=5, d=1, q=0\n",
    "model = ARIMA(history, order=(5,1,0))\n",
    "model_fit = model.fit(disp=0)\n",
    "# This forecasts the differences from the previous time period\n",
    "forecast = model_fit.predict(start = start_index, end = end_index)\n",
    "for yhat in forecast:\n",
    "    # The inverse difference function has to be used to generate the usable value from the differences obtained\n",
    "    inverted = inverse_difference(history, yhat, 1)\n",
    "    history.append(inverted)"
   ]
  },
  {
   "cell_type": "code",
   "execution_count": 142,
   "metadata": {},
   "outputs": [
    {
     "data": {
      "text/plain": [
       "0   2020-09-01\n",
       "1   2021-09-01\n",
       "dtype: datetime64[ns]"
      ]
     },
     "execution_count": 142,
     "metadata": {},
     "output_type": "execute_result"
    }
   ],
   "source": [
    "# Dates to be predicted for\n",
    "df = pd.DataFrame({'year': [2020, 2021], 'month': [9, 9], 'day': [1, 1]})\n",
    "pred = pd.to_datetime(df)\n",
    "pred"
   ]
  },
  {
   "cell_type": "code",
   "execution_count": 143,
   "metadata": {},
   "outputs": [
    {
     "data": {
      "text/plain": [
       "[12, 24]"
      ]
     },
     "execution_count": 143,
     "metadata": {},
     "output_type": "execute_result"
    }
   ],
   "source": [
    "# Find index of said dates in the forecast order\n",
    "index = []\n",
    "for date in pred:\n",
    "    index.append(dates_list.index(date))\n",
    "index"
   ]
  },
  {
   "cell_type": "code",
   "execution_count": 145,
   "metadata": {},
   "outputs": [
    {
     "name": "stdout",
     "output_type": "stream",
     "text": [
      "01 Sept 2020 : 28101.27399855731\n",
      "01 Sept 2021 : 29159.70967930367\n"
     ]
    }
   ],
   "source": [
    "# Generate output for these dates from the forecast\n",
    "print(\"01 Sept 2020 : \" + str(history[start_index + index[0]][0]))\n",
    "print(\"01 Sept 2021 : \" + str(history[start_index + index[1]][0]))"
   ]
  },
  {
   "cell_type": "code",
   "execution_count": null,
   "metadata": {},
   "outputs": [],
   "source": []
  }
 ],
 "metadata": {
  "kernelspec": {
   "display_name": "Python 3",
   "language": "python",
   "name": "python3"
  },
  "language_info": {
   "codemirror_mode": {
    "name": "ipython",
    "version": 3
   },
   "file_extension": ".py",
   "mimetype": "text/x-python",
   "name": "python",
   "nbconvert_exporter": "python",
   "pygments_lexer": "ipython3",
   "version": "3.7.1"
  }
 },
 "nbformat": 4,
 "nbformat_minor": 2
}
