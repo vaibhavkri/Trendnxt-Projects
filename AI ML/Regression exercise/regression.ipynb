{
 "cells": [
  {
   "cell_type": "code",
   "execution_count": 73,
   "metadata": {},
   "outputs": [],
   "source": [
    "import matplotlib.pyplot as plt\n",
    "import numpy as np\n",
    "import pandas as pd\n",
    "from sklearn import linear_model\n",
    "from sklearn.metrics import mean_squared_error, r2_score\n"
   ]
  },
  {
   "cell_type": "code",
   "execution_count": 74,
   "metadata": {},
   "outputs": [
    {
     "data": {
      "text/html": [
       "<div>\n",
       "<style scoped>\n",
       "    .dataframe tbody tr th:only-of-type {\n",
       "        vertical-align: middle;\n",
       "    }\n",
       "\n",
       "    .dataframe tbody tr th {\n",
       "        vertical-align: top;\n",
       "    }\n",
       "\n",
       "    .dataframe thead th {\n",
       "        text-align: right;\n",
       "    }\n",
       "</style>\n",
       "<table border=\"1\" class=\"dataframe\">\n",
       "  <thead>\n",
       "    <tr style=\"text-align: right;\">\n",
       "      <th></th>\n",
       "      <th>Population</th>\n",
       "      <th>Profit</th>\n",
       "    </tr>\n",
       "  </thead>\n",
       "  <tbody>\n",
       "    <tr>\n",
       "      <td>0</td>\n",
       "      <td>6.1101</td>\n",
       "      <td>17.5920</td>\n",
       "    </tr>\n",
       "    <tr>\n",
       "      <td>1</td>\n",
       "      <td>5.5277</td>\n",
       "      <td>9.1302</td>\n",
       "    </tr>\n",
       "    <tr>\n",
       "      <td>2</td>\n",
       "      <td>8.5186</td>\n",
       "      <td>13.6620</td>\n",
       "    </tr>\n",
       "    <tr>\n",
       "      <td>3</td>\n",
       "      <td>7.0032</td>\n",
       "      <td>11.8540</td>\n",
       "    </tr>\n",
       "    <tr>\n",
       "      <td>4</td>\n",
       "      <td>5.8598</td>\n",
       "      <td>6.8233</td>\n",
       "    </tr>\n",
       "  </tbody>\n",
       "</table>\n",
       "</div>"
      ],
      "text/plain": [
       "   Population   Profit\n",
       "0      6.1101  17.5920\n",
       "1      5.5277   9.1302\n",
       "2      8.5186  13.6620\n",
       "3      7.0032  11.8540\n",
       "4      5.8598   6.8233"
      ]
     },
     "execution_count": 74,
     "metadata": {},
     "output_type": "execute_result"
    }
   ],
   "source": [
    "### Read the csv data file\n",
    "df = pd.read_csv('ex1data1.txt',header=None,names=['Population', 'Profit'])\n",
    "df.head()"
   ]
  },
  {
   "cell_type": "code",
   "execution_count": 75,
   "metadata": {},
   "outputs": [
    {
     "data": {
      "text/html": [
       "<div>\n",
       "<style scoped>\n",
       "    .dataframe tbody tr th:only-of-type {\n",
       "        vertical-align: middle;\n",
       "    }\n",
       "\n",
       "    .dataframe tbody tr th {\n",
       "        vertical-align: top;\n",
       "    }\n",
       "\n",
       "    .dataframe thead th {\n",
       "        text-align: right;\n",
       "    }\n",
       "</style>\n",
       "<table border=\"1\" class=\"dataframe\">\n",
       "  <thead>\n",
       "    <tr style=\"text-align: right;\">\n",
       "      <th></th>\n",
       "      <th>Population</th>\n",
       "      <th>Profit</th>\n",
       "    </tr>\n",
       "  </thead>\n",
       "  <tbody>\n",
       "    <tr>\n",
       "      <td>74</td>\n",
       "      <td>5.0269</td>\n",
       "      <td>-2.6807</td>\n",
       "    </tr>\n",
       "    <tr>\n",
       "      <td>77</td>\n",
       "      <td>5.0365</td>\n",
       "      <td>5.7014</td>\n",
       "    </tr>\n",
       "    <tr>\n",
       "      <td>9</td>\n",
       "      <td>5.0546</td>\n",
       "      <td>3.8166</td>\n",
       "    </tr>\n",
       "    <tr>\n",
       "      <td>89</td>\n",
       "      <td>5.0594</td>\n",
       "      <td>2.8214</td>\n",
       "    </tr>\n",
       "    <tr>\n",
       "      <td>46</td>\n",
       "      <td>5.0702</td>\n",
       "      <td>5.1337</td>\n",
       "    </tr>\n",
       "  </tbody>\n",
       "</table>\n",
       "</div>"
      ],
      "text/plain": [
       "    Population  Profit\n",
       "74      5.0269 -2.6807\n",
       "77      5.0365  5.7014\n",
       "9       5.0546  3.8166\n",
       "89      5.0594  2.8214\n",
       "46      5.0702  5.1337"
      ]
     },
     "execution_count": 75,
     "metadata": {},
     "output_type": "execute_result"
    }
   ],
   "source": [
    "## The population entries in the data is in random order. It should be sorted in ascending order for better plots. \n",
    "## The scatter plot will not see any effect because of this random order, even the predicted line plot will be unable to\n",
    "## find any difference. But, if a polynomial fit is applied the order will be used to plot the polynomial fit properly.\n",
    "## Therefore, this sorted dataframe will be used in the polynomial regression.\n",
    "\n",
    "df_sorted = df.sort_values(by=['Population']) \n",
    "df_sorted.head()"
   ]
  },
  {
   "cell_type": "code",
   "execution_count": 76,
   "metadata": {},
   "outputs": [
    {
     "data": {
      "image/png": "[encoded data removed]",
      "text/plain": [
       "<Figure size 432x288 with 1 Axes>"
      ]
     },
     "metadata": {
      "needs_background": "light"
     },
     "output_type": "display_data"
    }
   ],
   "source": [
    "#####   Exercise 1 ###\n",
    "\n",
    "## Plot the data\n",
    "plt.scatter(df['Population'], df['Profit'],  color='blue')\n",
    "\n",
    "## Label the plot\n",
    "plt.ylabel('Profit', fontsize=14)\n",
    "plt.xlabel('Population', fontsize=14)\n",
    "plt.title('Scatter plot of Population vs Profit', fontsize=16)\n",
    "plt.show()"
   ]
  },
  {
   "cell_type": "code",
   "execution_count": 77,
   "metadata": {},
   "outputs": [
    {
     "name": "stdout",
     "output_type": "stream",
     "text": [
      "Slope:  [[1.19303364]]\n",
      "Intercept:  [-3.89578088]\n"
     ]
    }
   ],
   "source": [
    "##### Exercise 2 #####\n",
    "\n",
    "## Create linear regression object\n",
    "regr = linear_model.LinearRegression()\n",
    "\n",
    "## Prepare ther dataset with proper shape\n",
    "X = df['Population'].to_numpy().reshape(-1,1)\n",
    "Y = df['Profit'].to_numpy().reshape(-1,1)\n",
    "\n",
    "## Fit the model\n",
    "regr.fit(X,Y)\n",
    "\n",
    "## The coefficients\n",
    "print('Slope: ', regr.coef_)\n",
    "print('Intercept: ', regr.intercept_)\n",
    "\n",
    "## Profit as a function of population is given as : Profit = Slope*Population + Intercept\n"
   ]
  },
  {
   "cell_type": "code",
   "execution_count": 78,
   "metadata": {},
   "outputs": [
    {
     "data": {
      "image/png": "[encoded data removed]",
      "text/plain": [
       "<Figure size 432x288 with 1 Axes>"
      ]
     },
     "metadata": {
      "needs_background": "light"
     },
     "output_type": "display_data"
    },
    {
     "name": "stdout",
     "output_type": "stream",
     "text": [
      "Coefficient of determination: 0.70\n"
     ]
    }
   ],
   "source": [
    "### Exercise 3 #### (Part 1: Scatter plot with predicted line)\n",
    "\n",
    "# Find the predicted values\n",
    "Y_pred = regr.predict(X)\n",
    "\n",
    "## Plot the actual and predicted values\n",
    "plt.scatter(df['Population'], df['Profit'],  color='blue')\n",
    "plt.plot(X, Y_pred, color='red', linewidth=3)\n",
    "\n",
    "## Label the plot\n",
    "plt.ylabel('Profit', fontsize=14)\n",
    "plt.xlabel('Population', fontsize=14)\n",
    "plt.title('Population vs Profit', fontsize=16)\n",
    "plt.legend(['Actual', 'Predicted'])\n",
    "plt.show()\n",
    "\n",
    "## Print the R2 score\n",
    "print('Coefficient of determination: %.2f'  % r2_score(Y, Y_pred))\n"
   ]
  },
  {
   "cell_type": "code",
   "execution_count": 81,
   "metadata": {},
   "outputs": [
    {
     "data": {
      "image/png": "[encoded data removed]",
      "text/plain": [
       "<Figure size 432x288 with 1 Axes>"
      ]
     },
     "metadata": {
      "needs_background": "light"
     },
     "output_type": "display_data"
    },
    {
     "name": "stdout",
     "output_type": "stream",
     "text": [
      "Coefficient of determination: 0.71\n"
     ]
    }
   ],
   "source": [
    "### Exercise 3 #### (Part 2: Prediction with higher order polynomial)\n",
    "\n",
    "from sklearn.preprocessing import PolynomialFeatures\n",
    "\n",
    "## Prepare data from the sorted dataframe (Use unsorted 'df' dataframe to see the effect of non sorting to the plot)\n",
    "X = df_sorted['Population'].to_numpy().reshape(-1,1)\n",
    "Y = df_sorted['Profit'].to_numpy().reshape(-1,1)\n",
    "\n",
    "## Perform polynomial transform\n",
    "polyfeat= PolynomialFeatures(degree=4)\n",
    "X_poly = polyfeat.fit_transform(X)\n",
    "\n",
    "## Prepare regression model from the transformed values\n",
    "regr2 = linear_model.LinearRegression()\n",
    "regr2.fit(X_poly, Y)\n",
    "\n",
    "## Perform prediction\n",
    "Y_poly_pred = regr2.predict(X_poly)\n",
    "\n",
    "## Plot the actual and predicted values\n",
    "plt.scatter(df['Population'], df['Profit'],  color='blue')\n",
    "plt.plot(X, Y_poly_pred, color='red', linewidth=3)\n",
    "\n",
    "## Label the plot\n",
    "plt.ylabel('Profit', fontsize=14)\n",
    "plt.xlabel('Population', fontsize=14)\n",
    "plt.title('Population vs Profit', fontsize=16)\n",
    "plt.legend(['Actual', 'Predicted'])\n",
    "plt.show()\n",
    "\n",
    "## Print the R2 score\n",
    "print('Coefficient of determination: %.2f'  % r2_score(Y, Y_poly_pred))\n"
   ]
  },
  {
   "cell_type": "code",
   "execution_count": null,
   "metadata": {},
   "outputs": [],
   "source": []
  }
 ],
 "metadata": {
  "kernelspec": {
   "display_name": "Python 3",
   "language": "python",
   "name": "python3"
  },
  "language_info": {
   "codemirror_mode": {
    "name": "ipython",
    "version": 3
   },
   "file_extension": ".py",
   "mimetype": "text/x-python",
   "name": "python",
   "nbconvert_exporter": "python",
   "pygments_lexer": "ipython3",
   "version": "3.7.4"
  }
 },
 "nbformat": 4,
 "nbformat_minor": 2
}
