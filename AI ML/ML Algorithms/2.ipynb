{
 "cells": [
  {
   "cell_type": "code",
   "execution_count": 1,
   "metadata": {},
   "outputs": [],
   "source": [
    "import pandas as pd\n",
    "import numpy as np"
   ]
  },
  {
   "cell_type": "code",
   "execution_count": 2,
   "metadata": {},
   "outputs": [],
   "source": [
    "cols = [\"variance\",\"skewness\",\"curtosis\",\"entropy\",\"class\"]\n",
    "dataset = pd.read_excel(\"2_data.xlsm\", names=cols)\n"
   ]
  },
  {
   "cell_type": "code",
   "execution_count": 3,
   "metadata": {},
   "outputs": [
    {
     "data": {
      "text/plain": [
       "StandardScaler(copy=      variance   skewness   curtosis   entropy  class\n",
       "0     4.545900   8.167400  -2.458600 -1.462100      0\n",
       "1     3.866000  -2.638300   1.924200  0.106450      0\n",
       "2     3.456600   9.522800  -4.011200 -3.594400      0\n",
       "3     0.329240  -4.455200   4.571800 -0.988800      0\n",
       "4     4.368400   9.671800...2100 -2.777100      1\n",
       "1369 -3.563700  -8.382700  12.393000 -1.282300      1\n",
       "\n",
       "[1370 rows x 5 columns],\n",
       "        with_mean=True, with_std=True)"
      ]
     },
     "execution_count": 3,
     "metadata": {},
     "output_type": "execute_result"
    }
   ],
   "source": [
    "# cleaning data which have space.\n",
    "def dataclean(d_set):\n",
    "    for x in d_set:\n",
    "        data_without_str = []\n",
    "        for i in d_set[x]:\n",
    "            if i != \"  \":\n",
    "              data_without_str.append(i)\n",
    "\n",
    "        data_without_str_ds = pd.Series(data_without_str)\n",
    "        mode_class = np.array(data_without_str_ds.value_counts().keys())[0]\n",
    "        d_set[x] = d_set[x].replace(\"  \",mode_class)\n",
    "\n",
    "\n",
    "dataclean(dataset)\n",
    "from sklearn.preprocessing import StandardScaler\n",
    "StandardScaler(dataset[:-1])  # standardizing all columns except class label\n"
   ]
  },
  {
   "cell_type": "code",
   "execution_count": 4,
   "metadata": {},
   "outputs": [],
   "source": [
    "# splitting data in train and test\n",
    "predictors = dataset[['variance', 'skewness', 'curtosis', 'entropy']]\n",
    "label = dataset['class']\n",
    "\n",
    "from sklearn.model_selection import train_test_split\n",
    "x_train, x_test, y_train, y_test = train_test_split(predictors, label, random_state=12, test_size=0.20)\n"
   ]
  },
  {
   "cell_type": "code",
   "execution_count": 5,
   "metadata": {},
   "outputs": [
    {
     "data": {
      "text/plain": [
       "DecisionTreeClassifier(class_weight=None, criterion='entropy', max_depth=None,\n",
       "            max_features=None, max_leaf_nodes=None,\n",
       "            min_impurity_decrease=0.0, min_impurity_split=None,\n",
       "            min_samples_leaf=1, min_samples_split=2,\n",
       "            min_weight_fraction_leaf=0.0, presort=False, random_state=None,\n",
       "            splitter='best')"
      ]
     },
     "execution_count": 5,
     "metadata": {},
     "output_type": "execute_result"
    }
   ],
   "source": [
    "# model development and training\n",
    "from sklearn import tree\n",
    "cart_clf_model = tree.DecisionTreeRegressor()\n",
    "c45_clf_model = tree.DecisionTreeClassifier()\n",
    "id3_clf_model = tree.DecisionTreeClassifier(criterion=\"entropy\")\n",
    "\n",
    "cart_clf_model.fit(x_train, y_train)\n",
    "c45_clf_model.fit(x_train, y_train)\n",
    "id3_clf_model.fit(x_train, y_train)\n"
   ]
  },
  {
   "cell_type": "code",
   "execution_count": 6,
   "metadata": {},
   "outputs": [],
   "source": [
    "# accuracy and scoring\n",
    "from sklearn.metrics import confusion_matrix, accuracy_score, roc_auc_score, classification_report\n",
    "from sklearn.model_selection import cross_val_score\n"
   ]
  },
  {
   "cell_type": "code",
   "execution_count": 7,
   "metadata": {},
   "outputs": [],
   "source": [
    "# model ranking according tp their performance criteria\n",
    "def modelRange(model_acc_data):\n",
    "    model_df = pd.DataFrame(model_acc_data)\n",
    "\n",
    "    print(\"================ > Model Ranking < =====================\")\n",
    "    # based on Accuracy Score\n",
    "    print(\"------------------ Based on Accuracy Score ------------------------\")\n",
    "    print(model_df[['model name', 'Accuracy Score', 'Roc Auc', 'Cross Validation Mean Score']].sort_values(\"Accuracy Score\", ascending=False))\n",
    "\n",
    "    # based on ROC AUC\n",
    "    print(\"------------------ Based on ROC AUC Score ------------------------\")\n",
    "    print(model_df[['model name', 'Accuracy Score', 'Roc Auc' ,'Cross Validation Mean Score']].sort_values(\"Roc Auc\",ascending=False))\n",
    "\n",
    "    # based on Cross Validation Mean Score\n",
    "    print(\"------------------ Based on Cross Validation Mean Score ------------------------\")\n",
    "    print(model_df[['model name', 'Accuracy Score', 'Roc Auc', 'Cross Validation Mean Score']].sort_values(\"Cross Validation Mean Score\",ascending=False))\n",
    "\n"
   ]
  },
  {
   "cell_type": "code",
   "execution_count": 8,
   "metadata": {},
   "outputs": [],
   "source": [
    "# each model performance measuring\n",
    "def getmodelAccuracyReport(model_list, predictors, label):\n",
    "    print(\"================ > Model Accuracy < =====================\")\n",
    "    model_matrix = []\n",
    "    for each_model in model_list:\n",
    "        model_performance_metrix = {}\n",
    "        model_name = each_model['name']\n",
    "        model = each_model['model']\n",
    "\n",
    "        # prediction\n",
    "        print(\"=============================================================\")\n",
    "        model_predict = model.predict(x_test)\n",
    "        model_performance_metrix['model name'] = model_name\n",
    "        print(\"Model Name : \", model_name)\n",
    "        print(\"-------------------------------------------------------------\")\n",
    "        acu_score = accuracy_score(y_test, model_predict)\n",
    "        print(\"Accuracy Score : \",acu_score)\n",
    "        model_performance_metrix['Accuracy Score'] = acu_score\n",
    "\n",
    "        roc_auc = roc_auc_score(y_test, model_predict)\n",
    "        print(\"ROC AUC Score : \", roc_auc)\n",
    "        model_performance_metrix['Roc Auc'] = roc_auc\n",
    "\n",
    "        con_mat = confusion_matrix(y_test, model_predict)\n",
    "        print(\"Confusion Matrix \\n\",con_mat)\n",
    "        model_performance_metrix['Confusion Matrix'] = con_mat\n",
    "\n",
    "        clf_report = classification_report(y_test, model_predict)\n",
    "        print(\"Classification Report \\n\", clf_report)\n",
    "        model_performance_metrix['Classification Report'] = clf_report\n",
    "\n",
    "\n",
    "        scores = cross_val_score(model, predictors, label, cv=10)\n",
    "        mean_score = np.mean(scores)\n",
    "        print(\"Cross Validation Score : \", scores, \"Mean Score : \", mean_score)\n",
    "        model_performance_metrix['Cross Validation Mean Score'] = mean_score\n",
    "\n",
    "        model_matrix.append(model_performance_metrix)\n",
    "\n",
    "    return model_matrix\n",
    "\n"
   ]
  },
  {
   "cell_type": "code",
   "execution_count": 9,
   "metadata": {},
   "outputs": [],
   "source": [
    "# All Trained models\n",
    "models = [\n",
    "    {\n",
    "        \"name\" : \"CART\",\n",
    "        \"model\" : cart_clf_model\n",
    "    },\n",
    "    {\n",
    "        \"name\": \"C4.5\",\n",
    "        \"model\": c45_clf_model\n",
    "    },\n",
    "    {\n",
    "        \"name\": \"ID3\",\n",
    "        \"model\": id3_clf_model\n",
    "    },\n",
    "\n",
    "]"
   ]
  },
  {
   "cell_type": "code",
   "execution_count": 10,
   "metadata": {},
   "outputs": [
    {
     "name": "stdout",
     "output_type": "stream",
     "text": [
      "================ > Model Accuracy < =====================\n",
      "=============================================================\n",
      "Model Name :  CART\n",
      "-------------------------------------------------------------\n",
      "Accuracy Score :  0.9854545454545455\n",
      "ROC AUC Score :  0.986\n",
      "Confusion Matrix \n",
      " [[147   3]\n",
      " [  1 124]]\n",
      "Classification Report \n",
      "               precision    recall  f1-score   support\n",
      "\n",
      "           0       0.99      0.98      0.99       150\n",
      "           1       0.98      0.99      0.98       125\n",
      "\n",
      "   micro avg       0.99      0.99      0.99       275\n",
      "   macro avg       0.98      0.99      0.99       275\n",
      "weighted avg       0.99      0.99      0.99       275\n",
      "\n",
      "Cross Validation Score :  [0.92570078 0.92570078 0.85377202 0.92717643 0.88214286 1.\n",
      " 0.81525424 1.         0.81575389 0.96188811] Mean Score :  0.910738909653696\n",
      "=============================================================\n",
      "Model Name :  C4.5\n",
      "-------------------------------------------------------------\n",
      "Accuracy Score :  0.9890909090909091\n",
      "ROC AUC Score :  0.9893333333333334\n",
      "Confusion Matrix \n",
      " [[148   2]\n",
      " [  1 124]]\n",
      "Classification Report \n",
      "               precision    recall  f1-score   support\n",
      "\n",
      "           0       0.99      0.99      0.99       150\n",
      "           1       0.98      0.99      0.99       125\n",
      "\n",
      "   micro avg       0.99      0.99      0.99       275\n",
      "   macro avg       0.99      0.99      0.99       275\n",
      "weighted avg       0.99      0.99      0.99       275\n",
      "\n",
      "Cross Validation Score :  [0.98198198 0.98181818 0.96363636 0.98181818 0.97272727 1.\n",
      " 0.98165138 1.         0.96330275 0.99082569] Mean Score :  0.9817761798495743\n",
      "=============================================================\n",
      "Model Name :  ID3\n",
      "-------------------------------------------------------------\n",
      "Accuracy Score :  0.9854545454545455\n",
      "ROC AUC Score :  0.9846666666666666\n",
      "Confusion Matrix \n",
      " [[149   1]\n",
      " [  3 122]]\n",
      "Classification Report \n",
      "               precision    recall  f1-score   support\n",
      "\n",
      "           0       0.98      0.99      0.99       150\n",
      "           1       0.99      0.98      0.98       125\n",
      "\n",
      "   micro avg       0.99      0.99      0.99       275\n",
      "   macro avg       0.99      0.98      0.99       275\n",
      "weighted avg       0.99      0.99      0.99       275\n",
      "\n",
      "Cross Validation Score :  [0.99099099 0.99090909 0.98181818 0.98181818 0.97272727 1.\n",
      " 0.98165138 0.99082569 0.98165138 0.99082569] Mean Score :  0.9863217846704085\n",
      "================ > Model Ranking < =====================\n",
      "------------------ Based on Accuracy Score ------------------------\n",
      "  model name  Accuracy Score   Roc Auc  Cross Validation Mean Score\n",
      "1       C4.5        0.989091  0.989333                     0.981776\n",
      "0       CART        0.985455  0.986000                     0.910739\n",
      "2        ID3        0.985455  0.984667                     0.986322\n",
      "------------------ Based on ROC AUC Score ------------------------\n",
      "  model name  Accuracy Score   Roc Auc  Cross Validation Mean Score\n",
      "1       C4.5        0.989091  0.989333                     0.981776\n",
      "0       CART        0.985455  0.986000                     0.910739\n",
      "2        ID3        0.985455  0.984667                     0.986322\n",
      "------------------ Based on Cross Validation Mean Score ------------------------\n",
      "  model name  Accuracy Score   Roc Auc  Cross Validation Mean Score\n",
      "2        ID3        0.985455  0.984667                     0.986322\n",
      "1       C4.5        0.989091  0.989333                     0.981776\n",
      "0       CART        0.985455  0.986000                     0.910739\n"
     ]
    }
   ],
   "source": [
    "# calling model performance\n",
    "model_acc_data = getmodelAccuracyReport(models, x_train, y_train)\n",
    "\n",
    "# calling the model ranking\n",
    "modelRange(model_acc_data)"
   ]
  },
  {
   "cell_type": "code",
   "execution_count": null,
   "metadata": {},
   "outputs": [],
   "source": []
  }
 ],
 "metadata": {
  "kernelspec": {
   "display_name": "Python 3",
   "language": "python",
   "name": "python3"
  },
  "language_info": {
   "codemirror_mode": {
    "name": "ipython",
    "version": 3
   },
   "file_extension": ".py",
   "mimetype": "text/x-python",
   "name": "python",
   "nbconvert_exporter": "python",
   "pygments_lexer": "ipython3",
   "version": "3.6.7"
  }
 },
 "nbformat": 4,
 "nbformat_minor": 2
}
