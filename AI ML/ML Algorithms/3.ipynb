{
 "cells": [
  {
   "cell_type": "code",
   "execution_count": 1,
   "metadata": {},
   "outputs": [],
   "source": [
    "import pandas as pd\n",
    "import numpy as np\n",
    "\n",
    "cols = [\"Pregnancies\",\n",
    "\"Glucose\",\n",
    "\"BloodPressure\",\n",
    "\"SkinThickness\",\n",
    "\"Insulin\",\n",
    "\"BMI\",\n",
    "\"DiabetesPedigreeFunction\",\n",
    "\"Age\",\n",
    "\"Outcome\"]\n"
   ]
  },
  {
   "cell_type": "code",
   "execution_count": 2,
   "metadata": {},
   "outputs": [],
   "source": [
    "dataset = pd.read_excel(\"3_data.xlsm\", names=cols)"
   ]
  },
  {
   "cell_type": "code",
   "execution_count": 3,
   "metadata": {},
   "outputs": [],
   "source": [
    "#data cleaning\n",
    "def dataclean(d_set):\n",
    "    for x in d_set:\n",
    "        data_without_str = []\n",
    "        for i in d_set[x]:\n",
    "            if i != \"  \":\n",
    "              data_without_str.append(i)\n",
    "\n",
    "        data_without_str_ds = pd.Series(data_without_str)\n",
    "        # mean \n",
    "        replace_value = np.mean(data_without_str_ds)\n",
    "        # mode\n",
    "        #replace_value = np.array(data_without_str_ds.value_counts().keys())[0]\n",
    "        d_set[x] = d_set[x].replace(\"  \",replace_value)\n",
    "\n",
    "dataclean(dataset)\n",
    "\n"
   ]
  },
  {
   "cell_type": "code",
   "execution_count": 4,
   "metadata": {},
   "outputs": [],
   "source": [
    "# splitting dataset into train and test\n",
    "predictors = dataset[[\"Pregnancies\",\n",
    "\"Glucose\",\n",
    "\"BloodPressure\",\n",
    "\"SkinThickness\",\n",
    "\"Insulin\",\n",
    "\"BMI\",\n",
    "\"DiabetesPedigreeFunction\",\n",
    "\"Age\"]]\n",
    "label = dataset[\"Outcome\"]\n",
    "from sklearn.model_selection import train_test_split\n",
    "x_train, x_test, y_train, y_test = train_test_split(predictors, label, random_state=14, test_size=0.2)\n",
    "\n"
   ]
  },
  {
   "cell_type": "code",
   "execution_count": 5,
   "metadata": {},
   "outputs": [
    {
     "name": "stderr",
     "output_type": "stream",
     "text": [
      "/srv/conda/lib/python3.6/site-packages/sklearn/preprocessing/data.py:645: DataConversionWarning: Data with input dtype int64, float64 were all converted to float64 by StandardScaler.\n",
      "  return self.partial_fit(X, y)\n",
      "/srv/conda/lib/python3.6/site-packages/sklearn/base.py:464: DataConversionWarning: Data with input dtype int64, float64 were all converted to float64 by StandardScaler.\n",
      "  return self.fit(X, **fit_params).transform(X)\n"
     ]
    }
   ],
   "source": [
    "# dara preprocessing\n",
    "from sklearn.preprocessing import StandardScaler\n",
    "std_scl = StandardScaler()\n",
    "x_train_pre = std_scl.fit_transform(x_train)\n",
    "x_train = x_train_pre"
   ]
  },
  {
   "cell_type": "code",
   "execution_count": 6,
   "metadata": {},
   "outputs": [
    {
     "data": {
      "text/plain": [
       "GaussianNB(priors=None, var_smoothing=1e-09)"
      ]
     },
     "execution_count": 6,
     "metadata": {},
     "output_type": "execute_result"
    }
   ],
   "source": [
    "# model development and training\n",
    "from sklearn.neighbors import KNeighborsClassifier\n",
    "from sklearn.naive_bayes import  GaussianNB\n",
    "\n",
    "knn_clf_model = KNeighborsClassifier(n_neighbors=15)\n",
    "knn_clf_model.fit(x_train, y_train)\n",
    "\n",
    "gnb_clf_model = GaussianNB()\n",
    "gnb_clf_model.fit(x_train, y_train)"
   ]
  },
  {
   "cell_type": "code",
   "execution_count": 7,
   "metadata": {},
   "outputs": [],
   "source": [
    "# accuracy and scoring\n",
    "from sklearn.metrics import confusion_matrix, accuracy_score, roc_auc_score, classification_report\n",
    "from sklearn.model_selection import cross_val_score\n"
   ]
  },
  {
   "cell_type": "code",
   "execution_count": 8,
   "metadata": {},
   "outputs": [],
   "source": [
    "# model ranking according tp their performance criteria\n",
    "def modelRange(model_acc_data):\n",
    "    model_df = pd.DataFrame(model_acc_data)\n",
    "\n",
    "    print(\"================ > Model Ranking < =====================\")\n",
    "    # based on Accuracy Score\n",
    "    print(\"------------------ Based on Accuracy Score ------------------------\")\n",
    "    print(model_df[['model name', 'Accuracy Score', 'Roc Auc', 'Cross Validation Mean Score']].sort_values(\"Accuracy Score\", ascending=False))\n",
    "\n",
    "    # based on ROC AUC\n",
    "    print(\"------------------ Based on ROC AUC Score ------------------------\")\n",
    "    print(model_df[['model name', 'Accuracy Score', 'Roc Auc' ,'Cross Validation Mean Score']].sort_values(\"Roc Auc\",ascending=False))\n",
    "\n",
    "    # based on Cross Validation Mean Score\n",
    "    print(\"------------------ Based on Cross Validation Mean Score ------------------------\")\n",
    "    print(model_df[['model name', 'Accuracy Score', 'Roc Auc', 'Cross Validation Mean Score']].sort_values(\"Cross Validation Mean Score\",ascending=False))\n"
   ]
  },
  {
   "cell_type": "code",
   "execution_count": 9,
   "metadata": {},
   "outputs": [],
   "source": [
    "# each model performance measuring\n",
    "def getmodelAccuracyReport(model_list, x_test, y_test):\n",
    "    print(\"================ > Model Accuracy < =====================\")\n",
    "    model_matrix = []\n",
    "    for each_model in model_list:\n",
    "        model_performance_metrix = {}\n",
    "        model_name = each_model['name']\n",
    "        model = each_model['model']\n",
    "\n",
    "        # prediction\n",
    "        print(\"=============================================================\")\n",
    "        model_predict = model.predict(x_test)\n",
    "        model_performance_metrix['model name'] = model_name\n",
    "        print(\"Model Name : \", model_name)\n",
    "        print(\"-------------------------------------------------------------\")\n",
    "        acu_score = accuracy_score(y_test, model_predict)\n",
    "        print(\"Accuracy Score : \",acu_score)\n",
    "        model_performance_metrix['Accuracy Score'] = acu_score\n",
    "\n",
    "        roc_auc = roc_auc_score(y_test, model_predict)\n",
    "        print(\"ROC AUC Score : \", roc_auc)\n",
    "        model_performance_metrix['Roc Auc'] = roc_auc\n",
    "\n",
    "        con_mat = confusion_matrix(y_test, model_predict)\n",
    "        print(\"Confusion Matrix \\n\",con_mat)\n",
    "        model_performance_metrix['Confusion Matrix'] = con_mat\n",
    "\n",
    "        clf_report = classification_report(y_test, model_predict)\n",
    "        print(\"Classification Report \\n\", clf_report)\n",
    "        model_performance_metrix['Classification Report'] = clf_report\n",
    "\n",
    "\n",
    "        scores = cross_val_score(model, predictors, label, cv=10)\n",
    "        mean_score = np.mean(scores)\n",
    "        print(\"Cross Validation Score : \", scores, \"Mean Score : \", mean_score)\n",
    "        model_performance_metrix['Cross Validation Mean Score'] = mean_score\n",
    "\n",
    "  \n",
    "        \n",
    "        \n",
    "        model_matrix.append(model_performance_metrix)\n",
    "    return model_matrix\n",
    "\n",
    "models = [\n",
    "    {\n",
    "        \"name\" : \"KNN\",\n",
    "        \"model\" : knn_clf_model\n",
    "    },\n",
    "    {\n",
    "        \"name\": \"Gauss-NB\",\n",
    "        \"model\": gnb_clf_model\n",
    "    }\n",
    "\n",
    "]"
   ]
  },
  {
   "cell_type": "code",
   "execution_count": 10,
   "metadata": {},
   "outputs": [
    {
     "name": "stdout",
     "output_type": "stream",
     "text": [
      "================ > Model Accuracy < =====================\n",
      "=============================================================\n",
      "Model Name :  KNN\n",
      "-------------------------------------------------------------\n",
      "Accuracy Score :  0.766721044045677\n",
      "ROC AUC Score :  0.7072486696390047\n",
      "Confusion Matrix \n",
      " [[362  47]\n",
      " [ 96 108]]\n",
      "Classification Report \n",
      "               precision    recall  f1-score   support\n",
      "\n",
      "           0       0.79      0.89      0.84       409\n",
      "           1       0.70      0.53      0.60       204\n",
      "\n",
      "   micro avg       0.77      0.77      0.77       613\n",
      "   macro avg       0.74      0.71      0.72       613\n",
      "weighted avg       0.76      0.77      0.76       613\n",
      "\n",
      "Cross Validation Score :  [0.74025974 0.76623377 0.7012987  0.61038961 0.68831169 0.77922078\n",
      " 0.76623377 0.81578947 0.73684211 0.76315789] Mean Score :  0.7367737525632263\n",
      "=============================================================\n",
      "Model Name :  Gauss-NB\n",
      "-------------------------------------------------------------\n",
      "Accuracy Score :  0.7569331158238173\n",
      "ROC AUC Score :  0.714655544369337\n",
      "Confusion Matrix \n",
      " [[344  65]\n",
      " [ 84 120]]\n",
      "Classification Report \n",
      "               precision    recall  f1-score   support\n",
      "\n",
      "           0       0.80      0.84      0.82       409\n",
      "           1       0.65      0.59      0.62       204\n",
      "\n",
      "   micro avg       0.76      0.76      0.76       613\n",
      "   macro avg       0.73      0.71      0.72       613\n",
      "weighted avg       0.75      0.76      0.75       613\n",
      "\n",
      "Cross Validation Score :  [0.72727273 0.79220779 0.79220779 0.74025974 0.7012987  0.81818182\n",
      " 0.75324675 0.82894737 0.72368421 0.77631579] Mean Score :  0.7653622693096378\n",
      "================ > Model Ranking < =====================\n",
      "------------------ Based on Accuracy Score ------------------------\n",
      "  model name  Accuracy Score   Roc Auc  Cross Validation Mean Score\n",
      "0        KNN        0.766721  0.707249                     0.736774\n",
      "1   Gauss-NB        0.756933  0.714656                     0.765362\n",
      "------------------ Based on ROC AUC Score ------------------------\n",
      "  model name  Accuracy Score   Roc Auc  Cross Validation Mean Score\n",
      "1   Gauss-NB        0.756933  0.714656                     0.765362\n",
      "0        KNN        0.766721  0.707249                     0.736774\n",
      "------------------ Based on Cross Validation Mean Score ------------------------\n",
      "  model name  Accuracy Score   Roc Auc  Cross Validation Mean Score\n",
      "1   Gauss-NB        0.756933  0.714656                     0.765362\n",
      "0        KNN        0.766721  0.707249                     0.736774\n"
     ]
    }
   ],
   "source": [
    "# calling model performance\n",
    "model_acc_data = getmodelAccuracyReport(models, x_train, y_train)\n",
    "\n",
    "# calling the model ranking\n",
    "modelRange(model_acc_data)\n"
   ]
  },
  {
   "cell_type": "code",
   "execution_count": null,
   "metadata": {},
   "outputs": [],
   "source": []
  }
 ],
 "metadata": {
  "kernelspec": {
   "display_name": "Python 3",
   "language": "python",
   "name": "python3"
  },
  "language_info": {
   "codemirror_mode": {
    "name": "ipython",
    "version": 3
   },
   "file_extension": ".py",
   "mimetype": "text/x-python",
   "name": "python",
   "nbconvert_exporter": "python",
   "pygments_lexer": "ipython3",
   "version": "3.6.7"
  }
 },
 "nbformat": 4,
 "nbformat_minor": 2
}
