{
 "cells": [
  {
   "cell_type": "markdown",
   "metadata": {},
   "source": [
    "# Assignment 1"
   ]
  },
  {
   "cell_type": "code",
   "execution_count": 1,
   "metadata": {},
   "outputs": [
    {
     "data": {
      "text/plain": [
       "\n",
       "\tPearson's product-moment correlation\n",
       "\n",
       "data:  trees$Girth and trees$Volume\n",
       "t = 20.478, df = 29, p-value < 2.2e-16\n",
       "alternative hypothesis: true correlation is not equal to 0\n",
       "95 percent confidence interval:\n",
       " 0.9322519 0.9841887\n",
       "sample estimates:\n",
       "      cor \n",
       "0.9671194 \n"
      ]
     },
     "metadata": {},
     "output_type": "display_data"
    }
   ],
   "source": [
    "data(trees)\n",
    "#View(trees)\n",
    "cor.test(trees$Girth,trees$Volume)\n"
   ]
  },
  {
   "cell_type": "markdown",
   "metadata": {},
   "source": [
    "# Assignment 2"
   ]
  },
  {
   "cell_type": "code",
   "execution_count": 2,
   "metadata": {},
   "outputs": [
    {
     "data": {
      "text/plain": [
       "\n",
       "\tPearson's product-moment correlation\n",
       "\n",
       "data:  trees$Girth and trees$Volume\n",
       "t = 20.478, df = 29, p-value < 2.2e-16\n",
       "alternative hypothesis: true correlation is not equal to 0\n",
       "95 percent confidence interval:\n",
       " 0.9322519 0.9841887\n",
       "sample estimates:\n",
       "      cor \n",
       "0.9671194 \n"
      ]
     },
     "metadata": {},
     "output_type": "display_data"
    }
   ],
   "source": [
    "cor_result = cor.test(trees$Girth,trees$Volume)\n",
    "cor_result"
   ]
  },
  {
   "cell_type": "markdown",
   "metadata": {},
   "source": [
    "# Assignment 3"
   ]
  },
  {
   "cell_type": "code",
   "execution_count": 3,
   "metadata": {},
   "outputs": [
    {
     "name": "stdout",
     "output_type": "stream",
     "text": [
      "[1] \"the tree heights follow a normal distribution\"\n"
     ]
    }
   ],
   "source": [
    "nor_hie <-\n",
    "  shapiro.test(trees$Height) #shapiro test and storing the value in a variable\n",
    "if (nor_hie$p.value < 0.05) {\n",
    "  #checkign if the p value if less than significance value\n",
    "  print(\"the tree heights does no follow a normal distribution\")\n",
    "} else {\n",
    "  print(\"the tree heights follow a normal distribution\")\n",
    "}\n"
   ]
  },
  {
   "cell_type": "markdown",
   "metadata": {},
   "source": [
    "# Assignment 4"
   ]
  },
  {
   "cell_type": "code",
   "execution_count": 4,
   "metadata": {},
   "outputs": [],
   "source": [
    "mean_men<-177 #mean\n",
    "sd_men<-10 #standard deviation\n",
    "val_men<-200 #target value\n",
    "z_mean<-(val_men - mean_men)/sd_men # calculating z-score\n",
    "p_men<-pnorm(z_mean) #area under the curve from -infinity till the taget value\n",
    "p_target<-1 - p_men #area under the curve is 1. So substracting from 1 toget the target area\n",
    "Prob_target<-p_target*100\n"
   ]
  },
  {
   "cell_type": "markdown",
   "metadata": {},
   "source": [
    "# Assignment 5"
   ]
  },
  {
   "cell_type": "code",
   "execution_count": 5,
   "metadata": {},
   "outputs": [
    {
     "data": {
      "text/plain": [
       "\n",
       "\tWelch Two Sample t-test\n",
       "\n",
       "data:  x and y\n",
       "t = -3.2058, df = 97.927, p-value = 0.001819\n",
       "alternative hypothesis: true difference in means is not equal to 0\n",
       "95 percent confidence interval:\n",
       " -0.33028364 -0.07771636\n",
       "sample estimates:\n",
       "mean of x mean of y \n",
       "    2.770     2.974 \n"
      ]
     },
     "metadata": {},
     "output_type": "display_data"
    }
   ],
   "source": [
    "x = iris$Sepal.Width[iris$Species == \"versicolor\"]\n",
    "y = iris$Sepal.Width[iris$Species == \"virginica\"]\n",
    "\n",
    "t.test(x,y)"
   ]
  },
  {
   "cell_type": "markdown",
   "metadata": {},
   "source": [
    "# Assignment 6"
   ]
  },
  {
   "cell_type": "code",
   "execution_count": 6,
   "metadata": {},
   "outputs": [
    {
     "data": {
      "text/plain": [
       "\n",
       "\tWelch Two Sample t-test\n",
       "\n",
       "data:  x and y\n",
       "t = -3.2058, df = 97.927, p-value = 0.001819\n",
       "alternative hypothesis: true difference in means is not equal to 0\n",
       "95 percent confidence interval:\n",
       " -0.33028364 -0.07771636\n",
       "sample estimates:\n",
       "mean of x mean of y \n",
       "    2.770     2.974 \n"
      ]
     },
     "metadata": {},
     "output_type": "display_data"
    }
   ],
   "source": [
    "t.test(x,y,data = iris)"
   ]
  },
  {
   "cell_type": "markdown",
   "metadata": {},
   "source": [
    "# Assignment 7"
   ]
  },
  {
   "cell_type": "code",
   "execution_count": 7,
   "metadata": {},
   "outputs": [
    {
     "data": {
      "text/plain": [
       "\n",
       "\tBartlett test of homogeneity of variances\n",
       "\n",
       "data:  PlantGrowth$weight by PlantGrowth$group\n",
       "Bartlett's K-squared = 2.8786, df = 2, p-value = 0.2371\n"
      ]
     },
     "metadata": {},
     "output_type": "display_data"
    }
   ],
   "source": [
    "data(\"PlantGrowth\")\n",
    "#View(PlantGrowth)\n",
    "\n",
    "bartlett.test(PlantGrowth$weight~PlantGrowth$group)"
   ]
  },
  {
   "cell_type": "code",
   "execution_count": 8,
   "metadata": {},
   "outputs": [
    {
     "data": {
      "text/plain": [
       "                  Df Sum Sq Mean Sq F value Pr(>F)  \n",
       "PlantGrowth$group  2  3.766  1.8832   4.846 0.0159 *\n",
       "Residuals         27 10.492  0.3886                 \n",
       "---\n",
       "Signif. codes:  0 ‘***’ 0.001 ‘**’ 0.01 ‘*’ 0.05 ‘.’ 0.1 ‘ ’ 1"
      ]
     },
     "metadata": {},
     "output_type": "display_data"
    }
   ],
   "source": [
    "data(\"PlantGrowth\")\n",
    "#View(PlantGrowth)\n",
    "\n",
    "anova_results<-aov(PlantGrowth$weight~PlantGrowth$group, data = PlantGrowth)\n",
    "summary(anova_results)\n"
   ]
  },
  {
   "cell_type": "code",
   "execution_count": null,
   "metadata": {},
   "outputs": [],
   "source": []
  }
 ],
 "metadata": {
  "kernelspec": {
   "display_name": "R",
   "language": "R",
   "name": "ir"
  },
  "language_info": {
   "codemirror_mode": "r",
   "file_extension": ".r",
   "mimetype": "text/x-r-source",
   "name": "R",
   "pygments_lexer": "r",
   "version": "3.4.4"
  }
 },
 "nbformat": 4,
 "nbformat_minor": 2
}
